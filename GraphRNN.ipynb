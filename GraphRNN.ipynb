{
  "cells": [
    {
      "cell_type": "code",
      "execution_count": null,
      "metadata": {
        "colab": {
          "base_uri": "https://localhost:8080/"
        },
        "id": "iMGK3ecnjQ6w",
        "outputId": "652d0070-3277-44b9-80de-e2578ae0e28c"
      },
      "outputs": [
        {
          "output_type": "stream",
          "name": "stdout",
          "text": [
            "Cloning into 'GraphRNN'...\n",
            "remote: Enumerating objects: 173, done.\u001b[K\n",
            "remote: Counting objects: 100% (26/26), done.\u001b[K\n",
            "remote: Compressing objects: 100% (17/17), done.\u001b[K\n",
            "remote: Total 173 (delta 11), reused 9 (delta 9), pack-reused 147\u001b[K\n",
            "Receiving objects: 100% (173/173), 234.83 MiB | 20.18 MiB/s, done.\n",
            "Resolving deltas: 100% (25/25), done.\n",
            "Checking out files: 100% (130/130), done.\n"
          ]
        }
      ],
      "source": [
        "!git clone https://github.com/Huy1711/GraphRNN"
      ]
    },
    {
      "cell_type": "code",
      "execution_count": null,
      "metadata": {
        "colab": {
          "base_uri": "https://localhost:8080/"
        },
        "id": "pT3Igcymjcni",
        "outputId": "07bb886e-3c36-4b10-906d-13f3641ae579"
      },
      "outputs": [
        {
          "output_type": "stream",
          "name": "stdout",
          "text": [
            "/content/GraphRNN\n"
          ]
        }
      ],
      "source": [
        "%cd GraphRNN"
      ]
    },
    {
      "cell_type": "code",
      "execution_count": null,
      "metadata": {
        "colab": {
          "base_uri": "https://localhost:8080/",
          "height": 1000
        },
        "id": "jsLdol94jftl",
        "outputId": "76ade93b-90f3-4270-cbc8-2ec2668f4d03"
      },
      "outputs": [
        {
          "output_type": "stream",
          "name": "stdout",
          "text": [
            "Looking in indexes: https://pypi.org/simple, https://us-python.pkg.dev/colab-wheels/public/simple/\n",
            "Collecting tensorboard-logger\n",
            "  Downloading tensorboard_logger-0.1.0-py2.py3-none-any.whl (17 kB)\n",
            "Requirement already satisfied: tensorflow in /usr/local/lib/python3.8/dist-packages (from -r requirements.txt (line 2)) (2.9.2)\n",
            "Collecting networkx==1.11\n",
            "  Downloading networkx-1.11-py2.py3-none-any.whl (1.3 MB)\n",
            "\u001b[K     |████████████████████████████████| 1.3 MB 7.3 MB/s \n",
            "\u001b[?25hRequirement already satisfied: pyemd in /usr/local/lib/python3.8/dist-packages (from -r requirements.txt (line 4)) (0.5.1)\n",
            "Collecting matplotlib==2.0.1\n",
            "  Downloading matplotlib-2.0.1.tar.gz (53.8 MB)\n",
            "\u001b[K     |████████████████████████████████| 53.8 MB 94 kB/s \n",
            "\u001b[?25hRequirement already satisfied: decorator>=3.4.0 in /usr/local/lib/python3.8/dist-packages (from networkx==1.11->-r requirements.txt (line 3)) (4.4.2)\n",
            "Requirement already satisfied: numpy>=1.7.1 in /usr/local/lib/python3.8/dist-packages (from matplotlib==2.0.1->-r requirements.txt (line 5)) (1.21.6)\n",
            "Requirement already satisfied: six>=1.10 in /usr/local/lib/python3.8/dist-packages (from matplotlib==2.0.1->-r requirements.txt (line 5)) (1.15.0)\n",
            "Requirement already satisfied: python-dateutil in /usr/local/lib/python3.8/dist-packages (from matplotlib==2.0.1->-r requirements.txt (line 5)) (2.8.2)\n",
            "Requirement already satisfied: pytz in /usr/local/lib/python3.8/dist-packages (from matplotlib==2.0.1->-r requirements.txt (line 5)) (2022.6)\n",
            "Requirement already satisfied: cycler>=0.10 in /usr/local/lib/python3.8/dist-packages (from matplotlib==2.0.1->-r requirements.txt (line 5)) (0.11.0)\n",
            "Requirement already satisfied: pyparsing!=2.0.4,!=2.1.2,!=2.1.6,>=1.5.6 in /usr/local/lib/python3.8/dist-packages (from matplotlib==2.0.1->-r requirements.txt (line 5)) (3.0.9)\n",
            "Requirement already satisfied: pillow>=4.1.1 in /usr/local/lib/python3.8/dist-packages (from tensorboard-logger->-r requirements.txt (line 1)) (7.1.2)\n",
            "Requirement already satisfied: scipy>=0.19.1 in /usr/local/lib/python3.8/dist-packages (from tensorboard-logger->-r requirements.txt (line 1)) (1.7.3)\n",
            "Requirement already satisfied: protobuf in /usr/local/lib/python3.8/dist-packages (from tensorboard-logger->-r requirements.txt (line 1)) (3.19.6)\n",
            "Requirement already satisfied: libclang>=13.0.0 in /usr/local/lib/python3.8/dist-packages (from tensorflow->-r requirements.txt (line 2)) (14.0.6)\n",
            "Requirement already satisfied: keras-preprocessing>=1.1.1 in /usr/local/lib/python3.8/dist-packages (from tensorflow->-r requirements.txt (line 2)) (1.1.2)\n",
            "Requirement already satisfied: flatbuffers<2,>=1.12 in /usr/local/lib/python3.8/dist-packages (from tensorflow->-r requirements.txt (line 2)) (1.12)\n",
            "Requirement already satisfied: keras<2.10.0,>=2.9.0rc0 in /usr/local/lib/python3.8/dist-packages (from tensorflow->-r requirements.txt (line 2)) (2.9.0)\n",
            "Requirement already satisfied: grpcio<2.0,>=1.24.3 in /usr/local/lib/python3.8/dist-packages (from tensorflow->-r requirements.txt (line 2)) (1.51.1)\n",
            "Requirement already satisfied: setuptools in /usr/local/lib/python3.8/dist-packages (from tensorflow->-r requirements.txt (line 2)) (57.4.0)\n",
            "Requirement already satisfied: h5py>=2.9.0 in /usr/local/lib/python3.8/dist-packages (from tensorflow->-r requirements.txt (line 2)) (3.1.0)\n",
            "Requirement already satisfied: astunparse>=1.6.0 in /usr/local/lib/python3.8/dist-packages (from tensorflow->-r requirements.txt (line 2)) (1.6.3)\n",
            "Requirement already satisfied: tensorboard<2.10,>=2.9 in /usr/local/lib/python3.8/dist-packages (from tensorflow->-r requirements.txt (line 2)) (2.9.1)\n",
            "Requirement already satisfied: gast<=0.4.0,>=0.2.1 in /usr/local/lib/python3.8/dist-packages (from tensorflow->-r requirements.txt (line 2)) (0.4.0)\n",
            "Requirement already satisfied: packaging in /usr/local/lib/python3.8/dist-packages (from tensorflow->-r requirements.txt (line 2)) (21.3)\n",
            "Requirement already satisfied: termcolor>=1.1.0 in /usr/local/lib/python3.8/dist-packages (from tensorflow->-r requirements.txt (line 2)) (2.1.1)\n",
            "Requirement already satisfied: tensorflow-estimator<2.10.0,>=2.9.0rc0 in /usr/local/lib/python3.8/dist-packages (from tensorflow->-r requirements.txt (line 2)) (2.9.0)\n",
            "Requirement already satisfied: tensorflow-io-gcs-filesystem>=0.23.1 in /usr/local/lib/python3.8/dist-packages (from tensorflow->-r requirements.txt (line 2)) (0.28.0)\n",
            "Requirement already satisfied: wrapt>=1.11.0 in /usr/local/lib/python3.8/dist-packages (from tensorflow->-r requirements.txt (line 2)) (1.14.1)\n",
            "Requirement already satisfied: typing-extensions>=3.6.6 in /usr/local/lib/python3.8/dist-packages (from tensorflow->-r requirements.txt (line 2)) (4.4.0)\n",
            "Requirement already satisfied: absl-py>=1.0.0 in /usr/local/lib/python3.8/dist-packages (from tensorflow->-r requirements.txt (line 2)) (1.3.0)\n",
            "Requirement already satisfied: google-pasta>=0.1.1 in /usr/local/lib/python3.8/dist-packages (from tensorflow->-r requirements.txt (line 2)) (0.2.0)\n",
            "Requirement already satisfied: opt-einsum>=2.3.2 in /usr/local/lib/python3.8/dist-packages (from tensorflow->-r requirements.txt (line 2)) (3.3.0)\n",
            "Requirement already satisfied: wheel<1.0,>=0.23.0 in /usr/local/lib/python3.8/dist-packages (from astunparse>=1.6.0->tensorflow->-r requirements.txt (line 2)) (0.38.4)\n",
            "Requirement already satisfied: tensorboard-data-server<0.7.0,>=0.6.0 in /usr/local/lib/python3.8/dist-packages (from tensorboard<2.10,>=2.9->tensorflow->-r requirements.txt (line 2)) (0.6.1)\n",
            "Requirement already satisfied: google-auth<3,>=1.6.3 in /usr/local/lib/python3.8/dist-packages (from tensorboard<2.10,>=2.9->tensorflow->-r requirements.txt (line 2)) (2.15.0)\n",
            "Requirement already satisfied: google-auth-oauthlib<0.5,>=0.4.1 in /usr/local/lib/python3.8/dist-packages (from tensorboard<2.10,>=2.9->tensorflow->-r requirements.txt (line 2)) (0.4.6)\n",
            "Requirement already satisfied: tensorboard-plugin-wit>=1.6.0 in /usr/local/lib/python3.8/dist-packages (from tensorboard<2.10,>=2.9->tensorflow->-r requirements.txt (line 2)) (1.8.1)\n",
            "Requirement already satisfied: requests<3,>=2.21.0 in /usr/local/lib/python3.8/dist-packages (from tensorboard<2.10,>=2.9->tensorflow->-r requirements.txt (line 2)) (2.23.0)\n",
            "Requirement already satisfied: markdown>=2.6.8 in /usr/local/lib/python3.8/dist-packages (from tensorboard<2.10,>=2.9->tensorflow->-r requirements.txt (line 2)) (3.4.1)\n",
            "Requirement already satisfied: werkzeug>=1.0.1 in /usr/local/lib/python3.8/dist-packages (from tensorboard<2.10,>=2.9->tensorflow->-r requirements.txt (line 2)) (1.0.1)\n",
            "Requirement already satisfied: pyasn1-modules>=0.2.1 in /usr/local/lib/python3.8/dist-packages (from google-auth<3,>=1.6.3->tensorboard<2.10,>=2.9->tensorflow->-r requirements.txt (line 2)) (0.2.8)\n",
            "Requirement already satisfied: cachetools<6.0,>=2.0.0 in /usr/local/lib/python3.8/dist-packages (from google-auth<3,>=1.6.3->tensorboard<2.10,>=2.9->tensorflow->-r requirements.txt (line 2)) (5.2.0)\n",
            "Requirement already satisfied: rsa<5,>=3.1.4 in /usr/local/lib/python3.8/dist-packages (from google-auth<3,>=1.6.3->tensorboard<2.10,>=2.9->tensorflow->-r requirements.txt (line 2)) (4.9)\n",
            "Requirement already satisfied: requests-oauthlib>=0.7.0 in /usr/local/lib/python3.8/dist-packages (from google-auth-oauthlib<0.5,>=0.4.1->tensorboard<2.10,>=2.9->tensorflow->-r requirements.txt (line 2)) (1.3.1)\n",
            "Requirement already satisfied: importlib-metadata>=4.4 in /usr/local/lib/python3.8/dist-packages (from markdown>=2.6.8->tensorboard<2.10,>=2.9->tensorflow->-r requirements.txt (line 2)) (4.13.0)\n",
            "Requirement already satisfied: zipp>=0.5 in /usr/local/lib/python3.8/dist-packages (from importlib-metadata>=4.4->markdown>=2.6.8->tensorboard<2.10,>=2.9->tensorflow->-r requirements.txt (line 2)) (3.11.0)\n",
            "Requirement already satisfied: pyasn1<0.5.0,>=0.4.6 in /usr/local/lib/python3.8/dist-packages (from pyasn1-modules>=0.2.1->google-auth<3,>=1.6.3->tensorboard<2.10,>=2.9->tensorflow->-r requirements.txt (line 2)) (0.4.8)\n",
            "Requirement already satisfied: certifi>=2017.4.17 in /usr/local/lib/python3.8/dist-packages (from requests<3,>=2.21.0->tensorboard<2.10,>=2.9->tensorflow->-r requirements.txt (line 2)) (2022.9.24)\n",
            "Requirement already satisfied: idna<3,>=2.5 in /usr/local/lib/python3.8/dist-packages (from requests<3,>=2.21.0->tensorboard<2.10,>=2.9->tensorflow->-r requirements.txt (line 2)) (2.10)\n",
            "Requirement already satisfied: urllib3!=1.25.0,!=1.25.1,<1.26,>=1.21.1 in /usr/local/lib/python3.8/dist-packages (from requests<3,>=2.21.0->tensorboard<2.10,>=2.9->tensorflow->-r requirements.txt (line 2)) (1.24.3)\n",
            "Requirement already satisfied: chardet<4,>=3.0.2 in /usr/local/lib/python3.8/dist-packages (from requests<3,>=2.21.0->tensorboard<2.10,>=2.9->tensorflow->-r requirements.txt (line 2)) (3.0.4)\n",
            "Requirement already satisfied: oauthlib>=3.0.0 in /usr/local/lib/python3.8/dist-packages (from requests-oauthlib>=0.7.0->google-auth-oauthlib<0.5,>=0.4.1->tensorboard<2.10,>=2.9->tensorflow->-r requirements.txt (line 2)) (3.2.2)\n",
            "Building wheels for collected packages: matplotlib\n",
            "  Building wheel for matplotlib (setup.py) ... \u001b[?25l\u001b[?25hdone\n",
            "  Created wheel for matplotlib: filename=matplotlib-2.0.1-cp38-cp38-linux_x86_64.whl size=10639846 sha256=6beecef3e01d5d87186b49c822b93ea8f8369374057e8b6d560f0df3867e91bd\n",
            "  Stored in directory: /root/.cache/pip/wheels/6b/99/67/aeabaecf6d1a9152a91dc2e9b1d1c11db01298fd30b43137ab\n",
            "Successfully built matplotlib\n",
            "Installing collected packages: tensorboard-logger, networkx, matplotlib\n",
            "  Attempting uninstall: networkx\n",
            "    Found existing installation: networkx 2.8.8\n",
            "    Uninstalling networkx-2.8.8:\n",
            "      Successfully uninstalled networkx-2.8.8\n",
            "  Attempting uninstall: matplotlib\n",
            "    Found existing installation: matplotlib 3.2.2\n",
            "    Uninstalling matplotlib-3.2.2:\n",
            "      Successfully uninstalled matplotlib-3.2.2\n",
            "\u001b[31mERROR: pip's dependency resolver does not currently take into account all the packages that are installed. This behaviour is the source of the following dependency conflicts.\n",
            "yellowbrick 1.5 requires matplotlib!=3.0.0,>=2.0.2, but you have matplotlib 2.0.1 which is incompatible.\n",
            "seaborn 0.11.2 requires matplotlib>=2.2, but you have matplotlib 2.0.1 which is incompatible.\n",
            "scikit-image 0.18.3 requires networkx>=2.0, but you have networkx 1.11 which is incompatible.\n",
            "pycocotools 2.0.6 requires matplotlib>=2.1.0, but you have matplotlib 2.0.1 which is incompatible.\n",
            "plotnine 0.8.0 requires matplotlib>=3.1.1, but you have matplotlib 2.0.1 which is incompatible.\n",
            "mizani 0.7.3 requires matplotlib>=3.1.1, but you have matplotlib 2.0.1 which is incompatible.\n",
            "datascience 0.17.5 requires matplotlib>=3.0.0, but you have matplotlib 2.0.1 which is incompatible.\n",
            "arviz 0.12.1 requires matplotlib>=3.0, but you have matplotlib 2.0.1 which is incompatible.\u001b[0m\n",
            "Successfully installed matplotlib-2.0.1 networkx-1.11 tensorboard-logger-0.1.0\n"
          ]
        },
        {
          "output_type": "display_data",
          "data": {
            "application/vnd.colab-display-data+json": {
              "pip_warning": {
                "packages": [
                  "matplotlib",
                  "mpl_toolkits"
                ]
              }
            }
          },
          "metadata": {}
        }
      ],
      "source": [
        "!pip install -r requirements.txt"
      ]
    },
    {
      "cell_type": "code",
      "execution_count": null,
      "metadata": {
        "colab": {
          "base_uri": "https://localhost:8080/",
          "height": 36
        },
        "id": "R9jB7ElGTyDW",
        "outputId": "53234311-1a9b-4dd3-b503-b984db6ca091"
      },
      "outputs": [
        {
          "output_type": "execute_result",
          "data": {
            "text/plain": [
              "'2.0.1'"
            ],
            "application/vnd.google.colaboratory.intrinsic+json": {
              "type": "string"
            }
          },
          "metadata": {},
          "execution_count": 1
        }
      ],
      "source": [
        "import matplotlib\n",
        "matplotlib.__version__"
      ]
    },
    {
      "cell_type": "code",
      "execution_count": null,
      "metadata": {
        "colab": {
          "base_uri": "https://localhost:8080/"
        },
        "id": "jmvbeIEdjney",
        "outputId": "ec51bcc4-c7ae-4eaa-ac43-ad267fb1ce81"
      },
      "outputs": [
        {
          "output_type": "stream",
          "name": "stdout",
          "text": [
            "CUDA 0\n",
            "File name prefix GraphRNN_RNN_grid_small_4_64_\n",
            "graph_validate_len 12.0\n",
            "graph_test_len 5.333333333333333\n",
            "total graph num: 12, training set: 9\n",
            "max number node: 20\n",
            "max/min number edge: 31; 4\n",
            "max previous node: 15\n",
            "train and test graphs saved at:  ./graphs/GraphRNN_RNN_grid_small_4_64_test_0.dat\n",
            "/usr/local/lib/python3.8/dist-packages/torch/utils/data/dataloader.py:554: UserWarning: This DataLoader will create 4 worker processes in total. Our suggested max number of worker in current system is 2, which is smaller than what this DataLoader is going to create. Please be aware that excessive worker creation might get DataLoader running slow or even freeze, lower the worker number to avoid potential slowness/freeze if necessary.\n",
            "  warnings.warn(_create_warning_msg(\n",
            "/content/GraphRNN/model.py:299: UserWarning: nn.init.xavier_uniform is now deprecated in favor of nn.init.xavier_uniform_.\n",
            "  nn.init.xavier_uniform(param,gain=nn.init.calculate_gain('sigmoid'))\n",
            "/content/GraphRNN/model.py:297: UserWarning: nn.init.constant is now deprecated in favor of nn.init.constant_.\n",
            "  nn.init.constant(param, 0.25)\n",
            "/content/GraphRNN/model.py:302: UserWarning: nn.init.xavier_uniform is now deprecated in favor of nn.init.xavier_uniform_.\n",
            "  m.weight.data = init.xavier_uniform(m.weight.data, gain=nn.init.calculate_gain('relu'))\n",
            "Traceback (most recent call last):\n",
            "  File \"main.py\", line 126, in <module>\n",
            "    rnn = GRU_plain(input_size=args.max_prev_node, embedding_size=args.embedding_size_rnn,\n",
            "  File \"/usr/local/lib/python3.8/dist-packages/torch/nn/modules/module.py\", line 747, in cuda\n",
            "    return self._apply(lambda t: t.cuda(device))\n",
            "  File \"/usr/local/lib/python3.8/dist-packages/torch/nn/modules/module.py\", line 639, in _apply\n",
            "    module._apply(fn)\n",
            "  File \"/usr/local/lib/python3.8/dist-packages/torch/nn/modules/module.py\", line 662, in _apply\n",
            "    param_applied = fn(param)\n",
            "  File \"/usr/local/lib/python3.8/dist-packages/torch/nn/modules/module.py\", line 747, in <lambda>\n",
            "    return self._apply(lambda t: t.cuda(device))\n",
            "  File \"/usr/local/lib/python3.8/dist-packages/torch/cuda/__init__.py\", line 229, in _lazy_init\n",
            "    torch._C._cuda_init()\n",
            "RuntimeError: No CUDA GPUs are available\n",
            "^C\n"
          ]
        }
      ],
      "source": [
        "!python main.py"
      ]
    },
    {
      "cell_type": "code",
      "execution_count": null,
      "metadata": {
        "id": "A3qSf-ETMTAr"
      },
      "outputs": [],
      "source": [
        "# !g++ -O2 -std=c++11 -o orca orca.cpp"
      ]
    },
    {
      "cell_type": "code",
      "execution_count": null,
      "metadata": {
        "colab": {
          "base_uri": "https://localhost:8080/"
        },
        "id": "Q2N0SVQeQ_pV",
        "outputId": "46eeabd2-a978-4721-b9ed-8bc21f3f22bf"
      },
      "outputs": [
        {
          "name": "stdout",
          "output_type": "stream",
          "text": [
            "Mounted at /content/drive\n"
          ]
        }
      ],
      "source": [
        "# mount it\n",
        "from google.colab import drive\n",
        "drive.mount('/content/drive')\n"
      ]
    },
    {
      "cell_type": "code",
      "execution_count": null,
      "metadata": {
        "id": "bCDC90bGMVyz"
      },
      "outputs": [],
      "source": [
        "!python evaluate.py"
      ]
    },
    {
      "cell_type": "code",
      "source": [
        "!python analysis.py"
      ],
      "metadata": {
        "colab": {
          "base_uri": "https://localhost:8080/"
        },
        "id": "sTsJ14B73rax",
        "outputId": "e2fd2d47-9744-4d9a-f007-7ad2028bcbf8"
      },
      "execution_count": null,
      "outputs": [
        {
          "output_type": "stream",
          "name": "stdout",
          "text": [
            "grid_small GraphRNN_RNN\n",
            "./graphs/GraphRNN_RNN_grid_small_4_64_test_0\n",
            "./graphs/GraphRNN_RNN_grid_small_4_64_pred_3000_1\n",
            "real average nodes 10.5\n",
            "pred average nodes 20.5048828125\n",
            "num of real graphs 12\n",
            "num of pred graphs 1024\n",
            "iter 0\n",
            "pred 21\n",
            "pred 21\n",
            "pred 21\n",
            "pred 21\n",
            "pred 21\n",
            "pred 21\n",
            "pred 21\n",
            "pred 21\n",
            "iter 1\n",
            "pred 21\n",
            "pred 21\n",
            "pred 21\n",
            "pred 21\n",
            "pred 21\n",
            "pred 21\n",
            "pred 21\n",
            "pred 21\n",
            "iter 2\n",
            "pred 21\n",
            "pred 21\n",
            "pred 21\n",
            "pred 21\n",
            "pred 21\n",
            "pred 21\n",
            "pred 21\n",
            "pred 21\n",
            "iter 3\n",
            "pred 21\n",
            "pred 21\n",
            "pred 21\n",
            "pred 21\n",
            "pred 21\n",
            "pred 21\n",
            "pred 21\n",
            "pred 21\n",
            "iter 4\n",
            "pred 21\n",
            "pred 21\n",
            "pred 21\n",
            "pred 21\n",
            "pred 21\n",
            "pred 21\n",
            "pred 21\n",
            "pred 21\n",
            "iter 5\n",
            "pred 21\n",
            "pred 21\n",
            "pred 21\n",
            "pred 21\n",
            "pred 21\n",
            "pred 21\n",
            "pred 21\n",
            "pred 21\n",
            "iter 6\n",
            "pred 21\n",
            "pred 21\n",
            "pred 21\n",
            "pred 21\n",
            "pred 21\n",
            "pred 21\n",
            "pred 21\n",
            "pred 21\n",
            "iter 7\n",
            "pred 21\n",
            "pred 21\n",
            "pred 21\n",
            "pred 21\n",
            "pred 21\n",
            "pred 21\n",
            "pred 21\n",
            "pred 21\n",
            "iter 0\n",
            "real 20\n",
            "real 16\n",
            "real 15\n",
            "real 12\n",
            "real 12\n",
            "real 10\n",
            "real 9\n",
            "real 8\n",
            "iter 1\n",
            "Traceback (most recent call last):\n",
            "  File \"analysis.py\", line 124, in <module>\n",
            "    graph_list.append(graph_real_list[index])\n",
            "IndexError: list index out of range\n"
          ]
        }
      ]
    },
    {
      "cell_type": "code",
      "source": [
        "!nvdia-smi"
      ],
      "metadata": {
        "id": "zEbiraU_GPHM",
        "outputId": "3e079ea0-e392-42fc-86d3-2b75754a55b5",
        "colab": {
          "base_uri": "https://localhost:8080/"
        }
      },
      "execution_count": null,
      "outputs": [
        {
          "output_type": "stream",
          "name": "stdout",
          "text": [
            "/bin/bash: nvdia-smi: command not found\n"
          ]
        }
      ]
    },
    {
      "cell_type": "code",
      "execution_count": null,
      "metadata": {
        "id": "K7rqVum1LsTk"
      },
      "outputs": [],
      "source": [
        "# copy it there\n",
        "!cp /content/GraphRNN/eval_results/GraphRNN_RNN_community4.csv /content/drive/MyDrive/kaggle\\ data"
      ]
    },
    {
      "cell_type": "code",
      "execution_count": null,
      "metadata": {
        "id": "R8dcTj0flV1d"
      },
      "outputs": [],
      "source": [
        "from utils import draw_graph, load_graph_list, draw_graph_list"
      ]
    },
    {
      "cell_type": "code",
      "execution_count": null,
      "metadata": {
        "id": "aJUa6KmvlYzA"
      },
      "outputs": [],
      "source": [
        "graph = load_graph_list(\"/content/GraphRNN/graphs/GraphRNN_RNN_grid_small_4_64_pred_1000_1.dat\")"
      ]
    },
    {
      "cell_type": "code",
      "execution_count": null,
      "metadata": {
        "id": "JnTT2dLwotsq"
      },
      "outputs": [],
      "source": [
        "draw_graph_list(graph[49:65], 4, 4)"
      ]
    },
    {
      "cell_type": "code",
      "execution_count": null,
      "metadata": {
        "colab": {
          "base_uri": "https://localhost:8080/"
        },
        "id": "IdqXQS8oZx-x",
        "outputId": "64fa1bcc-7d0d-4a95-a9a6-aef4ecd9edab"
      },
      "outputs": [
        {
          "data": {
            "text/plain": [
              "12"
            ]
          },
          "execution_count": 19,
          "metadata": {},
          "output_type": "execute_result"
        }
      ],
      "source": [
        "len(graph)"
      ]
    },
    {
      "cell_type": "code",
      "execution_count": null,
      "metadata": {
        "id": "3EOmDZezoLmZ"
      },
      "outputs": [],
      "source": [
        "import community.community_louvain as cl\n",
        "import matplotlib.pyplot as plt\n",
        "import numpy as np\n",
        "import networkx as nx\n",
        "\n",
        "G = graph[0]\n",
        "prefix = 'test'\n",
        "\n",
        "parts = cl.best_partition(G)\n",
        "values = [parts.get(node) for node in G.nodes()]\n",
        "colors = []\n",
        "for i in range(len(values)):\n",
        "    if values[i] == 0:\n",
        "        colors.append('red')\n",
        "    if values[i] == 1:\n",
        "        colors.append('green')\n",
        "    if values[i] == 2:\n",
        "        colors.append('blue')\n",
        "    if values[i] == 3:\n",
        "        colors.append('yellow')\n",
        "    if values[i] == 4:\n",
        "        colors.append('orange')\n",
        "    if values[i] == 5:\n",
        "        colors.append('pink')\n",
        "    if values[i] == 6:\n",
        "        colors.append('black')\n",
        "    if values[i] == 7 or values[i] == 8 or values[i] == 9:\n",
        "        colors.append('pink')\n",
        "\n",
        "# spring_pos = nx.spring_layout(G)\n",
        "plt.switch_backend('agg')\n",
        "plt.axis(\"off\")\n",
        "\n",
        "pos = nx.spring_layout(G)\n",
        "nx.draw_networkx(G, with_labels=False, node_size=35, node_color=colors,pos=pos)\n",
        "\n",
        "\n",
        "# plt.switch_backend('agg')\n",
        "# options = {\n",
        "#     'node_color': 'black',\n",
        "#     'node_size': 10,\n",
        "#     'width': 1\n",
        "# }\n",
        "# plt.figure()\n",
        "# plt.subplot()\n",
        "# nx.draw_networkx(G, **options)\n",
        "plt.savefig('figures/graph_view_'+prefix+'.png', dpi=200)\n",
        "plt.close()\n",
        "\n",
        "plt.switch_backend('agg')\n",
        "G_deg = nx.degree_histogram(G)\n",
        "G_deg = np.array(G_deg)\n",
        "# plt.plot(range(len(G_deg)), G_deg, 'r', linewidth = 2)\n",
        "plt.loglog(np.arange(len(G_deg))[G_deg>0], G_deg[G_deg>0], 'r', linewidth=2)\n",
        "plt.savefig('figures/degree_view_' + prefix + '.png', dpi=200)\n",
        "plt.close()"
      ]
    }
  ],
  "metadata": {
    "colab": {
      "provenance": []
    },
    "gpuClass": "standard",
    "kernelspec": {
      "display_name": "Python 3",
      "name": "python3"
    },
    "language_info": {
      "name": "python"
    }
  },
  "nbformat": 4,
  "nbformat_minor": 0
}